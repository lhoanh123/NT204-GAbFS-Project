{
  "nbformat": 4,
  "nbformat_minor": 0,
  "metadata": {
    "colab": {
      "provenance": []
    },
    "kernelspec": {
      "name": "python3",
      "display_name": "Python 3"
    },
    "language_info": {
      "name": "python"
    }
  },
  "cells": [
    {
      "cell_type": "code",
      "execution_count": null,
      "metadata": {
        "id": "oY4Ukeh-MsbY",
        "colab": {
          "base_uri": "https://localhost:8080/"
        },
        "outputId": "aca8d50e-f9d7-440c-baca-dc49d5ca66fc"
      },
      "outputs": [
        {
          "output_type": "stream",
          "name": "stdout",
          "text": [
            "Mounted at /content/drive\n"
          ]
        }
      ],
      "source": [
        "from google.colab import drive\n",
        "drive.mount('/content/drive')"
      ]
    },
    {
      "cell_type": "code",
      "source": [
        "import numpy as np\n",
        "import pandas as pd\n",
        "from sklearn.model_selection import train_test_split\n",
        "from sklearn.svm import SVC\n",
        "from sklearn.neighbors import KNeighborsClassifier\n",
        "from xgboost import XGBClassifier\n",
        "from sklearn.metrics import accuracy_score"
      ],
      "metadata": {
        "id": "EJgvUe1SNTKe"
      },
      "execution_count": null,
      "outputs": []
    },
    {
      "cell_type": "markdown",
      "source": [
        "# 1. Chuẩn bị dataset\n",
        "\n"
      ],
      "metadata": {
        "id": "haNPZ96Z8T4V"
      }
    },
    {
      "cell_type": "code",
      "source": [
        "doh_path = '/content/drive/MyDrive/GbFS/l1-doh.csv'\n",
        "doh = pd.read_csv(doh_path)\n",
        "\n",
        "non_doh_path = '/content/drive/MyDrive/GbFS/l1-nondoh.csv'\n",
        "non_doh = pd.read_csv(non_doh_path)\n",
        "\n",
        "benign_path = '/content/drive/MyDrive/GbFS/l2-benign.csv'\n",
        "benign = pd.read_csv(benign_path)\n",
        "\n",
        "mal_path = '/content/drive/MyDrive/GbFS/l2-malicious.csv'\n",
        "mal = pd.read_csv(mal_path)"
      ],
      "metadata": {
        "id": "wceWzLu5NU42"
      },
      "execution_count": null,
      "outputs": []
    },
    {
      "cell_type": "code",
      "source": [
        "dataset_l1 = pd.concat([doh, non_doh], ignore_index=True)\n",
        "dataset_l2 = pd.concat([benign, mal], ignore_index=True)"
      ],
      "metadata": {
        "id": "vKpNHwnTNZkM"
      },
      "execution_count": null,
      "outputs": []
    },
    {
      "cell_type": "markdown",
      "source": [
        "## Normalize và scaling"
      ],
      "metadata": {
        "id": "UFcQSXTW8c5P"
      }
    },
    {
      "cell_type": "code",
      "source": [
        "def min_max_scaling(data):\n",
        "  scaled_dataset = (data-data.min())/(data.max()-data.min())\n",
        "  return scaled_dataset"
      ],
      "metadata": {
        "id": "02OV7oOj0x8x"
      },
      "execution_count": null,
      "outputs": []
    },
    {
      "cell_type": "code",
      "source": [
        "# Importing LabelEncoder from Sklearn\n",
        "# library from preprocessing Module.\n",
        "from sklearn.preprocessing import LabelEncoder\n",
        "\n",
        "def label_encoding(data):\n",
        "  # Creating a instance of label Encoder.\n",
        "  le = LabelEncoder()\n",
        "\n",
        "  str_columns = data.select_dtypes(include=['object']).columns\n",
        "  for col in str_columns:\n",
        "      data[col] = le.fit_transform(data[col].astype(str))\n",
        "  # printing label\n",
        "  sample = pd.concat([data.head(), data.tail()], ignore_index=True)\n",
        "  sample\n",
        "  return data"
      ],
      "metadata": {
        "id": "KrPbokzU00RH"
      },
      "execution_count": null,
      "outputs": []
    },
    {
      "cell_type": "code",
      "source": [
        "dataset_l1 = label_encoding(dataset_l1)\n",
        "dataset_l2 = label_encoding(dataset_l2)"
      ],
      "metadata": {
        "id": "JeqFoeha1Wjn"
      },
      "execution_count": null,
      "outputs": []
    },
    {
      "cell_type": "code",
      "source": [
        "dataset_l1 = min_max_scaling(dataset_l1)\n",
        "dataset_l2 = min_max_scaling(dataset_l2)"
      ],
      "metadata": {
        "id": "SCv8zthL1TEB"
      },
      "execution_count": null,
      "outputs": []
    },
    {
      "cell_type": "markdown",
      "source": [
        "# 2. Xây dựng model"
      ],
      "metadata": {
        "id": "iU1Px93x8kzu"
      }
    },
    {
      "cell_type": "code",
      "source": [
        "import random\n",
        "\n",
        "def initialize_pop(NUM_FEATURES):\n",
        "    \"\"\"\n",
        "    Khởi tạo quần thể ban đầu.\n",
        "\n",
        "    Parameters:\n",
        "    NUM_FEATURES (int): Số lượng đặc trưng.\n",
        "\n",
        "    Returns:\n",
        "    list: Danh sách các chromosome trong quần thể ban đầu.\n",
        "    \"\"\"\n",
        "    population = []\n",
        "    for _ in range(POP_SIZE):\n",
        "        chromosome = [random.choice([0, 1]) for _ in range(NUM_FEATURES)]\n",
        "        population.append(chromosome)\n",
        "    return population\n",
        "\n",
        "def fitness_function(data, chromosome):\n",
        "    \"\"\"\n",
        "    Tính toán hiệu suất của một chromosome dựa trên độ chính xác của mô hình học máy.\n",
        "\n",
        "    Parameters:\n",
        "    data (DataFrame): Dữ liệu ban đầu.\n",
        "    chromosome (array-like): Các đặc trưng được chọn từ chromosome.\n",
        "\n",
        "    Returns:\n",
        "    float: Độ chính xác của mô hình học máy sử dụng các đặc trưng từ chromosome.\n",
        "    \"\"\"\n",
        "    # Chọn các đặc trưng từ chromosome\n",
        "    selected_features = [i for i, bit in enumerate(chromosome) if bit == 1]\n",
        "    X = data.iloc[:, selected_features].values\n",
        "    y = data['Label'].values\n",
        "\n",
        "    # Chia dữ liệu thành tập huấn luyện và tập kiểm tra\n",
        "    X_train, X_test, y_train, y_test = train_test_split(X, y, test_size=0.2, random_state=42)\n",
        "\n",
        "    # Huấn luyện mô hình hồi quy logistic\n",
        "    model = LogisticRegression()\n",
        "    model.fit(X_train, y_train)\n",
        "\n",
        "    # Đánh giá độ chính xác của mô hình trên tập kiểm tra\n",
        "    accuracy = model.score(X_test, y_test)\n",
        "\n",
        "    return accuracy\n",
        "\n",
        "def calculate_fitness_values(data, population):\n",
        "    \"\"\"\n",
        "    Tính toán giá trị Fitness cho toàn bộ quần thể.\n",
        "\n",
        "    Parameters:\n",
        "    data (DataFrame): Dữ liệu gốc.\n",
        "    population (list): Danh sách các cá thể trong quần thể.\n",
        "\n",
        "    Returns:\n",
        "    list: Danh sách các giá trị Fitness tương ứng với mỗi cá thể trong population.\n",
        "    \"\"\"\n",
        "    fitness_values = []\n",
        "    for chromosome in population:\n",
        "        fitness_value = fitness_function(data, chromosome)\n",
        "        fitness_values.append(fitness_value)\n",
        "    return fitness_values\n",
        "\n",
        "def roulette_wheel_selection(population, fitness_values):\n",
        "    \"\"\"\n",
        "    Lựa chọn các cá thể cha mẹ sử dụng phương pháp bánh xe quay.\n",
        "\n",
        "    Parameters:\n",
        "    population (list): Danh sách các cá thể trong quần thể.\n",
        "    fitness_values (list): Danh sách các giá trị Fitness tương ứng với mỗi cá thể trong population.\n",
        "\n",
        "    Returns:\n",
        "    tuple: Một cặp cha mẹ được chọn từ quần thể.\n",
        "    \"\"\"\n",
        "    total_fitness = sum(fitness_values)\n",
        "    selection_point = random.uniform(0, total_fitness)\n",
        "    current_sum = 0\n",
        "\n",
        "    for i, fitness in enumerate(fitness_values):\n",
        "        current_sum += fitness\n",
        "        if current_sum >= selection_point:\n",
        "            parent1 = population[i]\n",
        "            break\n",
        "\n",
        "    current_sum = 0\n",
        "    selection_point = random.uniform(0, total_fitness)\n",
        "    for i, fitness in enumerate(fitness_values):\n",
        "        current_sum += fitness\n",
        "        if current_sum >= selection_point:\n",
        "            parent2 = population[i]\n",
        "            break\n",
        "\n",
        "    return parent1, parent2\n",
        "\n",
        "def mutation(parent, mutation_rate):\n",
        "    \"\"\"\n",
        "    Thực hiện toán tử đột biến (mutation) trên một cá thể cha mẹ.\n",
        "\n",
        "    Parameters:\n",
        "    parent (list): Cá thể cha mẹ.\n",
        "    mutation_rate (float): Tỷ lệ đột biến.\n",
        "\n",
        "    Returns:\n",
        "    list: Cá thể con sau khi đột biến.\n",
        "    \"\"\"\n",
        "    child = parent[:]  # Sao chép cá thể cha mẹ\n",
        "    for i in range(len(child)):\n",
        "        if random.random() < mutation_rate:\n",
        "            child[i] = random.choice([0, 1])  # Thực hiện đột biến\n",
        "    return child\n",
        "\n",
        "def crossover(parent1, parent2):\n",
        "    \"\"\"\n",
        "    Thực hiện toán tử lai ghép (crossover) giữa hai cá thể cha mẹ.\n",
        "\n",
        "    Parameters:\n",
        "    parent1 (list): Cá thể cha mẹ thứ nhất.\n",
        "    parent2 (list): Cá thể cha mẹ thứ hai.\n",
        "\n",
        "    Returns:\n",
        "    list: Cá thể con sau khi lai ghép.\n",
        "    \"\"\"\n",
        "    crossover_point = len(parent1) // 2\n",
        "    child = parent1[:crossover_point] + parent2[crossover_point:]\n",
        "    return child\n",
        "\n",
        "def new_population(population, fitness_values):\n",
        "    new_population = []\n",
        "    for _ in range(POP_SIZE):\n",
        "      parent1, parent2 = roulette_wheel_selection(population, fitness_values)\n",
        "      # Lai ghép\n",
        "      child = crossover(parent1, parent2)\n",
        "\n",
        "      # Đột biến\n",
        "      mutated_child = mutation(child, MUT_RATE)\n",
        "\n",
        "      # Thêm con vào quần thể mới\n",
        "      new_population.append(mutated_child)\n",
        "    return new_population\n",
        "\n",
        "def find_best_chromosome(data, population, num_generations, max_generations_without_improvement):\n",
        "    best_fitness = -float('inf')  # Khởi tạo best_fitness với giá trị âm vô cực\n",
        "    best_chromosome = None\n",
        "\n",
        "    num_generations_without_improvement = 0\n",
        "\n",
        "    # Vòng lặp qua các thế hệ\n",
        "    for generation in range(num_generations):\n",
        "        # Tính toán fitness cho mỗi cá thể trong quần thể\n",
        "        fitness_values = calculate_fitness_values(data, population)\n",
        "\n",
        "        # Tìm fitness tốt nhất trong thế hệ hiện tại\n",
        "        max_fitness_in_generation = max(fitness_values)\n",
        "\n",
        "        # Kiểm tra xem có sự cải thiện so với best_fitness hay không\n",
        "        if max_fitness_in_generation > best_fitness:\n",
        "            best_fitness = max_fitness_in_generation\n",
        "            best_chromosome_index = fitness_values.index(max_fitness_in_generation)\n",
        "            best_chromosome = population[best_chromosome_index]\n",
        "            num_generations_without_improvement = 0\n",
        "        else:\n",
        "            num_generations_without_improvement += 1\n",
        "\n",
        "        # Kiểm tra tiêu chí dừng: số thế hệ không có cải thiện vượt quá ngưỡng cho phép\n",
        "        if num_generations_without_improvement >= max_generations_without_improvement:\n",
        "            break\n",
        "\n",
        "    return best_chromosome\n",
        "\n",
        "from sklearn.model_selection import train_test_split, cross_val_score, KFold\n",
        "from sklearn.svm import SVC\n",
        "from sklearn.neighbors import KNeighborsClassifier\n",
        "from xgboost import XGBClassifier\n",
        "from sklearn.metrics import make_scorer, recall_score\n",
        "from imblearn.over_sampling import SMOTE\n",
        "\n",
        "def classification(data, best_chromosome, classifier, num_folds=5, threshold=0.5):\n",
        "    \"\"\"\n",
        "    Hàm thực hiện quá trình phân loại sử dụng các bộ phân loại khác nhau.\n",
        "\n",
        "    Parameters:\n",
        "    - data (DataFrame): Dữ liệu đầu vào.\n",
        "    - best_chromosome (list): Tập hợp các đặc trưng tối ưu.\n",
        "    - classifier (str): Bộ phân loại được sử dụng, có thể là 'svm', 'knn', hoặc 'xgboost'.\n",
        "    - num_folds (int): Số lượng fold trong cross-validation.\n",
        "    - threshold (float): Ngưỡng phân loại.\n",
        "\n",
        "    Returns:\n",
        "    - accuracy (float): Độ chính xác trung bình của mô hình.\n",
        "    - recall (float): Recall trung bình của mô hình.\n",
        "    \"\"\"\n",
        "    # Lựa chọn các đặc trưng từ tập dữ liệu dựa trên best_chromosome\n",
        "    selected_features = data.iloc[:, [i for i, bit in enumerate(best_chromosome) if bit == 1]]\n",
        "    X = selected_features.values\n",
        "    y = data['Label'].values  # Giả sử cột 'Label' là cột nhãn\n",
        "\n",
        "    # Sử dụng SMOTE để làm cân bằng dữ liệu\n",
        "    smote = SMOTE(random_state=42)\n",
        "    X_resampled, y_resampled = smote.fit_resample(X, y)\n",
        "\n",
        "    # Chia dữ liệu thành tập huấn luyện và tập kiểm tra\n",
        "    X_train, X_test, y_train, y_test = train_test_split(X_resampled, y_resampled, test_size=0.5, random_state=42)\n",
        "\n",
        "    # Chọn bộ phân loại\n",
        "    if classifier == 'svm':\n",
        "        clf = SVC(\n",
        "                kernel='linear',    # Sử dụng kernel tuyến tính để phân loại dữ liệu.\n",
        "                C=1.0,              # Hệ số phạt lỗi tiêu chuẩn, cân bằng giữa độ chính xác và khả năng tổng quát hóa.\n",
        "                gamma='scale',      # Hệ số gamma, tuy nhiên, với kernel tuyến tính, tham số này không được sử dụng.\n",
        "                class_weight='balanced', # Điều chỉnh trọng số lớp tự động để xử lý dữ liệu không cân bằng.\n",
        "                probability=True    # Tính toán xác suất dự đoán.\n",
        "            )\n",
        "    elif classifier == 'knn':\n",
        "          clf = KNeighborsClassifier(\n",
        "                n_neighbors=9,        # Số lượng láng giềng gần nhất được sử dụng để dự đoán.\n",
        "                weights='distance',   # Láng giềng gần hơn có trọng số cao hơn.\n",
        "                algorithm='auto',     # Tự động chọn thuật toán tối ưu nhất cho dữ liệu.\n",
        "                p=2,                  # Sử dụng khoảng cách Euclidean (L2).\n",
        "                metric='minkowski'    # Sử dụng khoảng cách Minkowski (tổng quát).\n",
        "          )\n",
        "    elif classifier == 'xgboost':\n",
        "         clf = XGBClassifier(\n",
        "                learning_rate=0.1,    # Tốc độ học của mô hình, giúp làm chậm quá trình học để tránh overfitting.\n",
        "                n_estimators=100,     # Tăng số lượng cây để cải thiện hiệu suất và độ chính xác của mô hình.\n",
        "                max_depth=5,          # Độ sâu tối đa của mỗi cây, giữ nguyên để cân bằng giữa độ chính xác và khả năng tổng quát hóa.\n",
        "                gamma=0,              # Giảm giá trị gamma để cho phép chia tách nhiều hơn, cải thiện khả năng học của mô hình.\n",
        "                subsample=0.8,        # Tăng tỷ lệ mẫu được sử dụng để xây dựng mỗi cây, giảm khả năng underfitting.\n",
        "                colsample_bytree=0.8  # Tăng tỷ lệ cột được sử dụng để xây dựng mỗi cây, giảm khả năng underfitting.\n",
        "            )\n",
        "    else:\n",
        "        raise ValueError(\"Invalid classifier. Please choose from 'svm', 'knn', or 'xgboost'.\")\n",
        "\n",
        "    # Huấn luyện mô hình\n",
        "    clf.fit(X_train, y_train)\n",
        "\n",
        "    # Dự đoán xác suất\n",
        "    y_probs = clf.predict_proba(X_test)[:, 1]\n",
        "\n",
        "    # Áp dụng ngưỡng phân loại\n",
        "    y_pred = (y_probs >= threshold).astype(int)\n",
        "\n",
        "    # Tính recall và accuracy\n",
        "    recall = recall_score(y_test, y_pred, average='macro')\n",
        "    accuracy = (y_test == y_pred).mean()\n",
        "\n",
        "    return accuracy, recall\n"
      ],
      "metadata": {
        "id": "aLWnYVOk1Ywm"
      },
      "execution_count": null,
      "outputs": []
    },
    {
      "cell_type": "markdown",
      "source": [
        "# 3. Train model"
      ],
      "metadata": {
        "id": "jPPqYRP5-LP1"
      }
    },
    {
      "cell_type": "code",
      "source": [
        "POP_SIZE = 100\n",
        "MUT_RATE = 0.5"
      ],
      "metadata": {
        "id": "HndMX-d11gVm"
      },
      "execution_count": null,
      "outputs": []
    },
    {
      "cell_type": "markdown",
      "source": [
        "## Dataset L1: doh & non_doh"
      ],
      "metadata": {
        "id": "9A4RCuWn-OqB"
      }
    },
    {
      "cell_type": "code",
      "source": [
        "NUM_FEATURES_l1 = len(dataset_l1.columns) - 1  # Số lượng đặc trưng trong dataset (trừ đi 1 cột nhãn)\n",
        "FEATURES_l1 = dataset_l1.columns[:-1]  # Danh sách các đặc trưng trong dataset"
      ],
      "metadata": {
        "id": "AhtwQ-et1mGa"
      },
      "execution_count": null,
      "outputs": []
    },
    {
      "cell_type": "code",
      "source": [
        "# Khởi tạo quần thể ban đầu\n",
        "population_l1 = initialize_pop(NUM_FEATURES_l1)"
      ],
      "metadata": {
        "id": "BxPftPPx11P5"
      },
      "execution_count": null,
      "outputs": []
    },
    {
      "cell_type": "code",
      "source": [
        "# Sử dụng hàm calculate_fitness_values để tính toán fitness_values cho population\n",
        "fitness_values_l1 = calculate_fitness_values(dataset_l1, population_l1)"
      ],
      "metadata": {
        "id": "a7Kuw83g2AKd"
      },
      "execution_count": null,
      "outputs": []
    },
    {
      "cell_type": "code",
      "source": [
        "population_l1 = new_population(population_l1, fitness_values_l1)"
      ],
      "metadata": {
        "id": "Ii9xDuvF2Ie8"
      },
      "execution_count": null,
      "outputs": []
    },
    {
      "cell_type": "code",
      "source": [
        "best_chromosome_l1 = find_best_chromosome(dataset_l1, population_l1, 100, 10)"
      ],
      "metadata": {
        "id": "kFLJ_Yip2OUi"
      },
      "execution_count": null,
      "outputs": []
    },
    {
      "cell_type": "markdown",
      "source": [
        "## Dataset L2: benign & malicious"
      ],
      "metadata": {
        "id": "XCGI8Gfh-ZIN"
      }
    },
    {
      "cell_type": "code",
      "source": [
        "NUM_FEATURES_l2 = len(dataset_l2.columns) - 1  # Số lượng đặc trưng trong dataset (trừ đi 1 cột nhãn)\n",
        "FEATURES_l2 = dataset_l2.columns[:-1]  # Danh sách các đặc trưng trong dataset"
      ],
      "metadata": {
        "id": "taJ6eTTF1us8"
      },
      "execution_count": null,
      "outputs": []
    },
    {
      "cell_type": "code",
      "source": [
        "# Khởi tạo quần thể ban đầu\n",
        "population_l2 = initialize_pop(NUM_FEATURES_l2)"
      ],
      "metadata": {
        "id": "6d0X3lzb17qp"
      },
      "execution_count": null,
      "outputs": []
    },
    {
      "cell_type": "code",
      "source": [
        "# Sử dụng hàm calculate_fitness_values để tính toán fitness_values cho population\n",
        "fitness_values_l2 = calculate_fitness_values(dataset_l2, population_l2)"
      ],
      "metadata": {
        "id": "wCJ1X_852F0G"
      },
      "execution_count": null,
      "outputs": []
    },
    {
      "cell_type": "code",
      "source": [
        "population_l2 = new_population(population_l2, fitness_values_l2)"
      ],
      "metadata": {
        "id": "E1aRIF2J2LfH"
      },
      "execution_count": null,
      "outputs": []
    },
    {
      "cell_type": "code",
      "source": [
        "best_chromosome_l2 = find_best_chromosome(dataset_l2, population_l2, 100, 10)"
      ],
      "metadata": {
        "id": "DHzAq22w3Bw4"
      },
      "execution_count": null,
      "outputs": []
    },
    {
      "cell_type": "markdown",
      "source": [
        "# 4. Đánh giá"
      ],
      "metadata": {
        "id": "kXtYGtXH-lEK"
      }
    },
    {
      "cell_type": "markdown",
      "source": [
        "## Dataset L1: doh & non_doh"
      ],
      "metadata": {
        "id": "fbqV-lXa-qA5"
      }
    },
    {
      "cell_type": "code",
      "source": [
        "knn_accuracy_l1, knn_recall_l1 = classification(dataset_l1, best_chromosome_l1, classifier='knn')\n",
        "print(\"KNN accuracy L1: \", knn_accuracy_l1)\n",
        "print(\"KNN recall L1: \", knn_recall_l1)"
      ],
      "metadata": {
        "colab": {
          "base_uri": "https://localhost:8080/"
        },
        "id": "QEXA4MUk3H_V",
        "outputId": "7014c7af-c3bd-404c-afcd-28fc9735e0e5"
      },
      "execution_count": null,
      "outputs": [
        {
          "output_type": "stream",
          "name": "stdout",
          "text": [
            "KNN accuracy L1:  0.976100278551532\n",
            "KNN recall L1:  0.9761162454069703\n"
          ]
        }
      ]
    },
    {
      "cell_type": "code",
      "source": [
        "xgboost_accuracy_l1, xgboost_recall_l1 = classification(dataset_l1, best_chromosome_l1, classifier='xgboost')\n",
        "print(\"XGBoost accuracy L1: \", xgboost_accuracy_l1)\n",
        "print(\"XGBoost recall L1: \", xgboost_recall_l1)"
      ],
      "metadata": {
        "colab": {
          "base_uri": "https://localhost:8080/"
        },
        "id": "R1e7xdiG3dL2",
        "outputId": "2d6e972e-183a-40cb-9cc3-38f1ca87b1f6"
      },
      "execution_count": null,
      "outputs": [
        {
          "output_type": "stream",
          "name": "stdout",
          "text": [
            "XGBoost accuracy L1:  0.9661281337047354\n",
            "XGBoost recall L1:  0.9661342265293678\n"
          ]
        }
      ]
    },
    {
      "cell_type": "code",
      "source": [
        "svm_accuracy_l1, svm_recall_l1 = classification(dataset_l1, best_chromosome_l1, classifier='svm')\n",
        "print(\"SVM accuracy L1: \", svm_accuracy_l1)\n",
        "print(\"SVM recall L2: \", svm_recall_l1)"
      ],
      "metadata": {
        "colab": {
          "base_uri": "https://localhost:8080/"
        },
        "id": "4Dkp7GUk3ZWP",
        "outputId": "34bf8a16-2bc2-4cbc-89f1-a5ce43b25f91"
      },
      "execution_count": null,
      "outputs": [
        {
          "output_type": "stream",
          "name": "stdout",
          "text": [
            "SVM accuracy L1:  0.8836211699164346\n",
            "SVM recall L2:  0.8836272631103914\n"
          ]
        }
      ]
    },
    {
      "cell_type": "markdown",
      "source": [
        "## Dataset L2: benign & malicious"
      ],
      "metadata": {
        "id": "k-NpDXSV-u5x"
      }
    },
    {
      "cell_type": "code",
      "source": [
        "xgboost_accuracy_l2, xgboost_recall_l2 = classification(dataset_l2, best_chromosome_l2, classifier='xgboost')\n",
        "print(\"XGBoost accuracy L2: \", xgboost_accuracy_l2)\n",
        "print(\"XGBoost recall L2: \", xgboost_recall_l2)"
      ],
      "metadata": {
        "colab": {
          "base_uri": "https://localhost:8080/"
        },
        "id": "ed40AuSf3dBi",
        "outputId": "3e4a26ed-2b35-463a-c25a-b7e3a2d6de52"
      },
      "execution_count": null,
      "outputs": [
        {
          "output_type": "stream",
          "name": "stdout",
          "text": [
            "XGBoost accuracy L2:  0.9405643386031619\n",
            "XGBoost recall L2:  0.9399879508069817\n"
          ]
        }
      ]
    },
    {
      "cell_type": "code",
      "source": [
        "knn_accuracy_l2, knn_recall_l2 = classification(dataset_l2, best_chromosome_l2, classifier='knn')\n",
        "print(\"KNN accuracy L2: \", knn_accuracy_l2)\n",
        "print(\"KNN recall L2: \", knn_recall_l2)"
      ],
      "metadata": {
        "colab": {
          "base_uri": "https://localhost:8080/"
        },
        "id": "faH3ejU93PiV",
        "outputId": "871e1f3a-9f1f-4f8f-936a-cbc8f0cc0e5f"
      },
      "execution_count": null,
      "outputs": [
        {
          "output_type": "stream",
          "name": "stdout",
          "text": [
            "KNN accuracy L2:  0.9165499299579748\n",
            "KNN recall L2:  0.9165220752819732\n"
          ]
        }
      ]
    },
    {
      "cell_type": "code",
      "source": [
        "svm_accuracy_l2, svm_recall_l2 = classification(dataset_l2, best_chromosome_l2, classifier='svm')\n",
        "print(\"SVM accuracy L2: \", svm_accuracy_l2)\n",
        "print(\"SVM recall L2: \", svm_recall_l2)"
      ],
      "metadata": {
        "colab": {
          "base_uri": "https://localhost:8080/"
        },
        "id": "vDyJ_-Zm3crZ",
        "outputId": "7bd02a39-b06a-44a2-e2d7-8c75e7c115e7"
      },
      "execution_count": null,
      "outputs": [
        {
          "output_type": "stream",
          "name": "stdout",
          "text": [
            "SVM accuracy L2:  0.9413648188913348\n",
            "SVM recall L2:  0.9410645729684577\n"
          ]
        }
      ]
    },
    {
      "cell_type": "markdown",
      "source": [
        "## Tổng quát"
      ],
      "metadata": {
        "id": "lw6mepoz-0RE"
      }
    },
    {
      "cell_type": "code",
      "source": [
        "import matplotlib.pyplot as plt\n",
        "import numpy as np\n",
        "\n",
        "svm_accuracy = (svm_accuracy_l1 + svm_accuracy_l2) / 2\n",
        "svm_recall = (svm_recall_l1 + svm_recall_l2) / 2\n",
        "print(\"SVM accuracy: \", svm_accuracy)\n",
        "print(\"SVM recall: \", svm_recall)\n",
        "\n",
        "knn_accuracy = (knn_accuracy_l1 + knn_accuracy_l2) / 2\n",
        "knn_recall = (knn_recall_l1 + knn_recall_l2) / 2\n",
        "print(\"KNN accuracy: \", knn_accuracy)\n",
        "print(\"KNN recall: \", knn_recall)\n",
        "\n",
        "xgboost_accuracy = (xgboost_accuracy_l1 + xgboost_accuracy_l2) / 2\n",
        "xgboost_recall = (xgboost_recall_l1 + xgboost_recall_l2) / 2\n",
        "print(\"XGBoost accuracy: \", xgboost_accuracy)\n",
        "print(\"XGBoost recall: \", xgboost_recall)\n",
        "\n",
        "# Tên của các mô hình\n",
        "models = ['SVM', 'XGBoost', 'KNN']\n",
        "\n",
        "# Độ chính xác và recall tương ứng của từng mô hình\n",
        "accuracy_scores = [svm_accuracy, xgboost_accuracy, knn_accuracy]\n",
        "recall_scores = [svm_recall, xgboost_recall, knn_recall]\n",
        "\n",
        "# Vị trí của các cột\n",
        "x = np.arange(len(models))\n",
        "\n",
        "# Kích thước của biểu đồ\n",
        "width = 0.4\n",
        "\n",
        "# Vẽ biểu đồ cột\n",
        "plt.figure(figsize=(5, 20))\n",
        "\n",
        "bars1 = plt.bar(x - width/2, accuracy_scores, color='blue', width=width, label='Accuracy')\n",
        "bars2 = plt.bar(x + width/2, recall_scores, color='orange', alpha=0.5, width=width, label='Recall')\n",
        "\n",
        "plt.xlabel('Models')\n",
        "plt.ylabel('Scores')\n",
        "plt.title('Accuracy and Recall Comparison')\n",
        "plt.legend()\n",
        "\n",
        "# Chỉnh trục x\n",
        "plt.xticks(ticks=x, labels=models)\n",
        "\n",
        "# Chỉnh trục y\n",
        "plt.yticks(np.arange(0, 1, 0.01 ))\n",
        "\n",
        "# Hiển thị giá trị trên từng cột\n",
        "for bar1, bar2 in zip(bars1, bars2):\n",
        "    yval1 = bar1.get_height()\n",
        "    plt.text(bar1.get_x() + bar1.get_width() / 2, yval1, round(yval1, 3), va='bottom')\n",
        "\n",
        "    yval2 = bar2.get_height()\n",
        "    plt.text(bar2.get_x() + bar2.get_width() / 2, yval2, round(yval2, 3), va='bottom')\n",
        "\n",
        "plt.show()\n"
      ],
      "metadata": {
        "colab": {
          "base_uri": "https://localhost:8080/",
          "height": 1000
        },
        "id": "F9jyGRkK-wL1",
        "outputId": "450a7be5-4a6c-4593-bc84-ba6df94ec97c"
      },
      "execution_count": null,
      "outputs": [
        {
          "output_type": "stream",
          "name": "stdout",
          "text": [
            "SVM accuracy:  0.9124929944038846\n",
            "SVM recall:  0.9123459180394246\n",
            "KNN accuracy:  0.9463251042547534\n",
            "KNN recall:  0.9463191603444717\n",
            "XGBoost accuracy:  0.9533462361539486\n",
            "XGBoost recall:  0.9530610886681747\n"
          ]
        },
        {
          "output_type": "display_data",
          "data": {
            "text/plain": [
              "<Figure size 500x2000 with 1 Axes>"
            ],
            "image/png": "[encoded data removed]"
          },
          "metadata": {}
        }
      ]
    }
  ]
}
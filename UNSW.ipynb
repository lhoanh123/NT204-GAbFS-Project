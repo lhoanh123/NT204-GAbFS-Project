{
  "cells": [
    {
      "cell_type": "markdown",
      "metadata": {
        "id": "vtj8X3yLdc-P"
      },
      "source": [
        "## **1. Đọc dữ liệu**"
      ]
    },
    {
      "cell_type": "code",
      "execution_count": 31,
      "metadata": {
        "colab": {
          "base_uri": "https://localhost:8080/"
        },
        "id": "_1WaMxu4cuaP",
        "outputId": "63d067cb-571f-441a-d733-4e7fb701d790"
      },
      "outputs": [
        {
          "output_type": "stream",
          "name": "stdout",
          "text": [
            "Drive already mounted at /content/drive; to attempt to forcibly remount, call drive.mount(\"/content/drive\", force_remount=True).\n"
          ]
        }
      ],
      "source": [
        "\n",
        "from google.colab import drive\n",
        "drive.mount('/content/drive')"
      ]
    },
    {
      "cell_type": "code",
      "execution_count": 32,
      "metadata": {
        "id": "hfu1fZHMdMbu"
      },
      "outputs": [],
      "source": [
        "import pandas as pd\n",
        "import numpy as np\n",
        "import tensorflow as tf\n",
        "from tensorflow import keras\n",
        "import pandas as pd\n",
        "import seaborn as sns\n",
        "import matplotlib.pyplot as plt\n",
        "from sklearn import metrics"
      ]
    },
    {
      "cell_type": "code",
      "execution_count": 33,
      "metadata": {
        "id": "SMSAe3K0dVt-"
      },
      "outputs": [],
      "source": [
        "path_train = \"/content/drive/MyDrive/ids_ga_ml/UNSW_NB15_training-set.csv\"\n",
        "path_test = \"/content/drive/MyDrive/ids_ga_ml/UNSW_NB15_testing-set.csv\""
      ]
    },
    {
      "cell_type": "code",
      "execution_count": 34,
      "metadata": {
        "id": "avZB2WXCdaAY"
      },
      "outputs": [],
      "source": [
        "df_train = pd.read_csv(path_train)\n",
        "df_test = pd.read_csv(path_test)"
      ]
    },
    {
      "cell_type": "code",
      "execution_count": 35,
      "metadata": {
        "id": "Np3Yyjbrusl7"
      },
      "outputs": [],
      "source": [
        "df_train.drop(['label'], axis=1, inplace=True)\n",
        "df_test.drop(['label'], axis=1, inplace=True)"
      ]
    },
    {
      "cell_type": "code",
      "source": [
        "# prompt: tạo ra df mới từ việc concat df_train với df_test\n",
        "\n",
        "df = pd.concat([df_train, df_test])\n"
      ],
      "metadata": {
        "id": "dejVlgcjHpoh"
      },
      "execution_count": 36,
      "outputs": []
    },
    {
      "cell_type": "code",
      "execution_count": 37,
      "metadata": {
        "id": "OkAX287Wx1K6"
      },
      "outputs": [],
      "source": [
        "y = df['attack_cat']\n",
        "X = df.drop('attack_cat', axis=1, inplace=False)"
      ]
    },
    {
      "cell_type": "code",
      "execution_count": 38,
      "metadata": {
        "id": "Y04r4NJcxSOp"
      },
      "outputs": [],
      "source": [
        "# y_test = df_test['attack_cat']\n",
        "# X_test = df_test.drop('attack_cat', axis=1)\n",
        "\n",
        "\n"
      ]
    },
    {
      "cell_type": "code",
      "execution_count": 39,
      "metadata": {
        "id": "pCJAbLID6pS7"
      },
      "outputs": [],
      "source": [
        "# prompt: use train test slip saprarte X_train, y_train, X_test, y_test from X,y\n",
        "\n",
        "from sklearn.model_selection import train_test_split\n",
        "\n",
        "X_train, X_test, y_train, y_test = train_test_split(X, y, test_size=0.2, random_state=42)\n"
      ]
    },
    {
      "cell_type": "markdown",
      "metadata": {
        "id": "h1keKSOwgl6B"
      },
      "source": [
        "## **2. Xử lý dữ liệu**"
      ]
    },
    {
      "cell_type": "code",
      "execution_count": 40,
      "metadata": {
        "id": "ytwDUD48rySx"
      },
      "outputs": [],
      "source": [
        "# # prompt: import thư viện, sinh mẫu để cân bằng dữ liệu theo cột attack_cat\n",
        "\n",
        "# from imblearn.over_sampling import RandomOverSampler\n",
        "\n",
        "# # Tách dữ liệu và nhãn\n",
        "# X_train = df_train.drop('attack_cat', axis=1)\n",
        "# y_train = df_train['attack_cat']\n",
        "\n",
        "# # Sinh mẫu để cân bằng dữ liệu theo cột attack_cat\n",
        "# ros = RandomOverSampler(sampling_strategy='all')\n",
        "# X_train_resampled, y_train_resampled = ros.fit_resample(X_train, y_train)\n",
        "\n",
        "# # Hiển thị số lượng mẫu của mỗi lớp sau khi cân bằng dữ liệu\n",
        "# print(y_train_resampled.value_counts())\n"
      ]
    },
    {
      "cell_type": "code",
      "execution_count": 41,
      "metadata": {
        "id": "nUSboKSYaiOF"
      },
      "outputs": [],
      "source": [
        "def min_max_scaler(data):\n",
        "  scaled_dataset = (data-data.min())/(data.max()-data.min())\n",
        "  return scaled_dataset"
      ]
    },
    {
      "cell_type": "code",
      "execution_count": 42,
      "metadata": {
        "id": "M9_xI6P5cl9H"
      },
      "outputs": [],
      "source": [
        "# prompt: tạo 1 function, đầu vào là 1 dataframe, tạo 1 biến tên cate-col để lưu trữ list là tên các cột có kiểu dữ liệu object, ròi dùng lable encode xử lý các cột đấy\n",
        "from sklearn.preprocessing import LabelEncoder\n",
        "\n",
        "# Creating a instance of label Encoder.\n",
        "le = LabelEncoder()\n",
        "\n",
        "def tranformdata(df):\n",
        "  for col in df.columns:\n",
        "    if df[col].dtype == 'object':\n",
        "\n",
        "      df[col] = le.fit_transform(df[col].astype(str))\n",
        "  return df"
      ]
    },
    {
      "cell_type": "code",
      "execution_count": 43,
      "metadata": {
        "id": "sN5ID5JtukAw"
      },
      "outputs": [],
      "source": [
        "# y_train = y_train_resampled\n",
        "# X_train = X_train_resampled"
      ]
    },
    {
      "cell_type": "code",
      "execution_count": 44,
      "metadata": {
        "id": "NjtRc3XrjeBp"
      },
      "outputs": [],
      "source": [
        "# y_train = df_train['attack_cat']\n",
        "# df_train.drop(['attack_cat', 'label'], axis=1, inplace=True)"
      ]
    },
    {
      "cell_type": "code",
      "execution_count": 45,
      "metadata": {
        "id": "s_GQu_2xvB-m"
      },
      "outputs": [],
      "source": [
        "# y_test = df_test['attack_cat']\n",
        "# df_test.drop(['attack_cat', 'label'], axis=1, inplace=True)"
      ]
    },
    {
      "cell_type": "code",
      "execution_count": 46,
      "metadata": {
        "colab": {
          "base_uri": "https://localhost:8080/"
        },
        "id": "aGa-qEUyy7Kl",
        "outputId": "a38cc005-26e1-4e80-e3c2-29b378f407a8"
      },
      "outputs": [
        {
          "output_type": "stream",
          "name": "stdout",
          "text": [
            "<class 'pandas.core.series.Series'>\n",
            "Index: 206138 entries, 9459 to 121958\n",
            "Series name: attack_cat\n",
            "Non-Null Count   Dtype \n",
            "--------------   ----- \n",
            "206138 non-null  object\n",
            "dtypes: object(1)\n",
            "memory usage: 3.1+ MB\n"
          ]
        }
      ],
      "source": [
        "y_train.info()"
      ]
    },
    {
      "cell_type": "code",
      "execution_count": 47,
      "metadata": {
        "id": "5-olFp0acoL-"
      },
      "outputs": [],
      "source": [
        "X_train = tranformdata(X_train)\n",
        "X_test = tranformdata(X_test)\n",
        "X_train = min_max_scaler(X_train)\n",
        "X_test = min_max_scaler(X_test)\n",
        "# y_train = tranformdata(y_train)\n",
        "# y_test = tranformdata(y_test)"
      ]
    },
    {
      "cell_type": "code",
      "execution_count": 47,
      "metadata": {
        "id": "6W1tO2_zc9tP"
      },
      "outputs": [],
      "source": []
    },
    {
      "cell_type": "code",
      "execution_count": 48,
      "metadata": {
        "id": "thuWny3B2zM1"
      },
      "outputs": [],
      "source": [
        "# prompt: viết một hàm  mapping các giá trị trong attack cat sang thành int\n",
        "\n",
        "def map_attack_cat(attack_cat):\n",
        "\n",
        "\n",
        "  mapping = {\n",
        "    'Normal': 0,\n",
        "    'Generic': 1,\n",
        "    'Exploits': 2,\n",
        "    'Fuzzers': 3,\n",
        "    'DoS': 4,\n",
        "    'Reconnaissance': 5,\n",
        "    'Analysis': 6,\n",
        "    'Backdoor': 7,\n",
        "    'Shellcode': 8,\n",
        "    'Worms': 9,\n",
        "  }\n",
        "\n",
        "  return mapping.get(attack_cat, None)\n",
        "\n",
        "y_train = y_train.apply(map_attack_cat)\n",
        "y_test = y_test.apply(map_attack_cat)\n",
        "\n"
      ]
    },
    {
      "cell_type": "code",
      "execution_count": 49,
      "metadata": {
        "colab": {
          "base_uri": "https://localhost:8080/"
        },
        "id": "V-xv8wdLzEaR",
        "outputId": "f5795d7d-c905-41ba-d690-f7057d31148a"
      },
      "outputs": [
        {
          "output_type": "execute_result",
          "data": {
            "text/plain": [
              "array([2, 1, 0, 3, 4, 5, 6, 8, 7, 9])"
            ]
          },
          "metadata": {},
          "execution_count": 49
        }
      ],
      "source": [
        "y_train.unique()"
      ]
    },
    {
      "cell_type": "markdown",
      "metadata": {
        "id": "5MnakC5sivsj"
      },
      "source": [
        "## **4. Model KNN, XGBOOST, SVM**\n"
      ]
    },
    {
      "cell_type": "markdown",
      "metadata": {
        "id": "lLqQ1FwoktTu"
      },
      "source": [
        "### **4.2 Tạo model**"
      ]
    },
    {
      "cell_type": "code",
      "execution_count": 57,
      "metadata": {
        "id": "KNiTG2DxT3c0"
      },
      "outputs": [],
      "source": [
        "# prompt: import thư viện, định nghĩa ra các function với biến đầu vào là X,y , function là các model:svm,knn,xgboost , đầu ra là in các chỉ số accracy và recall\n",
        "from sklearn.model_selection import GridSearchCV\n",
        "import pandas as pd\n",
        "from sklearn.neighbors import KNeighborsClassifier\n",
        "from sklearn.svm import SVC\n",
        "from xgboost import XGBClassifier\n",
        "from sklearn.model_selection import train_test_split\n",
        "from sklearn.metrics import accuracy_score, recall_score\n",
        "from sklearn.preprocessing import LabelEncoder\n",
        "\n",
        "\n",
        "\n",
        "def svm(X_train, X_test, y_train, y_test):\n",
        "  # Split the data into training and test sets\n",
        "  # X_train, X_test, y_train, y_test = train_test_split(X, y, test_size=0.2, random_state=42)\n",
        "\n",
        "  # Create a SVM model\n",
        "  model = SVC(kernel='linear', C=1, gamma='scale', class_weight='balanced')\n",
        "\n",
        "  # Train the model\n",
        "  model.fit(X_train, y_train)\n",
        "\n",
        "  # Predict on the test set\n",
        "  y_pred = model.predict(X_test)\n",
        "\n",
        "  # Calculate accuracy and recall\n",
        "  accuracy = accuracy_score(y_test, y_pred)\n",
        "  recall = recall_score(y_test, y_pred, average='weighted')\n",
        "\n",
        "  # Return the scores\n",
        "  return accuracy, recall\n",
        "\n",
        "\n",
        "def knn(X_train, X_test, y_train, y_test):\n",
        "\n",
        "  # Create a KNN model\n",
        "  model = KNeighborsClassifier(n_neighbors=20)\n",
        "\n",
        "  # Train the model\n",
        "  model.fit(X_train, y_train)\n",
        "\n",
        "  # Predict on the test set\n",
        "  y_pred = model.predict(X_test)\n",
        "\n",
        "  # Calculate accuracy and recall\n",
        "  accuracy = accuracy_score(y_test, y_pred)\n",
        "  recall = recall_score(y_test, y_pred, average='weighted')\n",
        "\n",
        "  # Return the scores\n",
        "  return accuracy, recall\n",
        "\n",
        "\n",
        "def xgboost(X_train, X_test, y_train, y_test):\n",
        "  # le = LabelEncoder()\n",
        "  # y_train = le.fit_transform(y_train)\n",
        "  # y_test = le.fit_transform(y_test)\n",
        "  # Split the data into training and test sets\n",
        "  # X_train, X_test, y_train, y_test = train_test_split(X, y, test_size=0.4, random_state=42)\n",
        "\n",
        "  # Create a XGBoost model\n",
        "  model = XGBClassifier( n_estimators=100, max_depth=100 )\n",
        "\n",
        "  # Train the model\n",
        "  model.fit(X_train, y_train)\n",
        "\n",
        "  # Predict on the test set\n",
        "  y_pred = model.predict(X_test)\n",
        "\n",
        "  # Calculate accuracy and recall\n",
        "  accuracy = accuracy_score(y_test, y_pred)\n",
        "  recall = recall_score(y_test, y_pred, average='weighted')\n",
        "\n",
        "  # Return the scores\n",
        "  return accuracy, recall\n",
        "\n"
      ]
    },
    {
      "cell_type": "markdown",
      "metadata": {
        "id": "UTPcAOMPyma3"
      },
      "source": [
        "## **5. Đánh giá**"
      ]
    },
    {
      "cell_type": "code",
      "execution_count": 51,
      "metadata": {
        "colab": {
          "base_uri": "https://localhost:8080/"
        },
        "id": "xu65gRWKyma4",
        "outputId": "1f192031-14cd-4402-a1b0-41e9fee1481d"
      },
      "outputs": [
        {
          "output_type": "stream",
          "name": "stdout",
          "text": [
            "xgboost accuracy:  0.7804404773454934\n",
            "xgboost recall:  0.7804404773454934\n"
          ]
        }
      ],
      "source": [
        "xg_acc, xg_recall = xgboost(X_train,X_test,y_train,y_test)\n",
        "print(\"xgboost accuracy: \", xg_acc)\n",
        "print(\"xgboost recall: \", xg_recall)"
      ]
    },
    {
      "cell_type": "code",
      "execution_count": 52,
      "metadata": {
        "colab": {
          "base_uri": "https://localhost:8080/"
        },
        "id": "GZzbwL0ryma3",
        "outputId": "5c472f24-4c67-44da-bd32-d874caba3516"
      },
      "outputs": [
        {
          "output_type": "stream",
          "name": "stdout",
          "text": [
            "knn accuracy:  0.7926845832929077\n",
            "knn recall:  0.7926845832929077\n"
          ]
        }
      ],
      "source": [
        "knn_acc, knn_recall = knn(X_train,X_test,y_train,y_test)\n",
        "print(\"knn accuracy: \", knn_acc)\n",
        "print(\"knn recall: \", knn_recall)"
      ]
    },
    {
      "cell_type": "code",
      "source": [
        "svm_acc, svm_recall = svm(X_train,X_test,y_train,y_test)\n",
        "print(\"svm accuracy: \", svm_acc)\n",
        "print(\"svm recall: \", svm_recall)"
      ],
      "metadata": {
        "colab": {
          "base_uri": "https://localhost:8080/"
        },
        "outputId": "fde812f2-e8c7-4401-b244-19b6168a187e",
        "id": "vqdLBeyIQruk"
      },
      "execution_count": null,
      "outputs": [
        {
          "output_type": "stream",
          "name": "stdout",
          "text": [
            "svm accuracy:  0.7882992141263219\n",
            "svm recall:  0.7882992141263219\n"
          ]
        }
      ]
    }
  ],
  "metadata": {
    "colab": {
      "provenance": []
    },
    "kernelspec": {
      "display_name": "Python 3",
      "name": "python3"
    },
    "language_info": {
      "name": "python"
    }
  },
  "nbformat": 4,
  "nbformat_minor": 0
}